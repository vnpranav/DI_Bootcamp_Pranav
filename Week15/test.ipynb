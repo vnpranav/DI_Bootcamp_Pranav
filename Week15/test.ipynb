{
 "cells": [
  {
   "cell_type": "code",
   "execution_count": 22,
   "metadata": {},
   "outputs": [],
   "source": [
    "# ----- file io ----\n",
    "\n",
    "# for line in open('nameslist.txt'):\n",
    "#    print(line)\n",
    "\n",
    "with open('nameslist.txt') as file:\n",
    "   names = file.readlines()\n",
    "\n",
    "#    for name in names:\n",
    "#       print(name, end=\"\")\n",
    "\n",
    "#    print(names[4])\n",
    "\n",
    "# for i in range(5):\n",
    "#    print(names[i])\n",
    "\n",
    "# print(names.count('Darth\\n')+1)\n",
    "# print(names.count('Luke\\n'))\n",
    "# print(names.count('Lea\\n'))\n",
    "# print(len(names))\n",
    "\n",
    "#    for i in range(len(names)):\n",
    "#       if 'Luke' in names[i]:\n",
    "#          names[i] = names[i].replace('\\n', \"\") + \" Skywalker\\n\"\n",
    "\n",
    "#    with open('newnames.txt',  'w') as f:\n",
    "#       for name in names:\n",
    "#          f.write(name)"
   ]
  },
  {
   "cell_type": "code",
   "execution_count": null,
   "metadata": {},
   "outputs": [],
   "source": [
    "# --- apis ----\n"
   ]
  },
  {
   "cell_type": "code",
   "execution_count": 19,
   "metadata": {},
   "outputs": [
    {
     "name": "stdout",
     "output_type": "stream",
     "text": [
      "True\n"
     ]
    }
   ],
   "source": [
    "from collections import Counter\n",
    "from collections import OrderedDict\n",
    "a = Counter('aaabbbccc')\n",
    "b = Counter('bbbcccaaa')\n",
    "# print(a)\n",
    "# print(b)\n",
    "b_dict = dict(b)\n",
    "sorted_b = OrderedDict(sorted(b_dict.items()))\n",
    "a_dict = dict(a)\n",
    "sorted_a = OrderedDict(sorted(a_dict.items()))\n",
    "print(sorted_b == sorted_a)"
   ]
  },
  {
   "cell_type": "code",
   "execution_count": 27,
   "metadata": {},
   "outputs": [
    {
     "name": "stdout",
     "output_type": "stream",
     "text": [
      "/ bx aa\n"
     ]
    }
   ],
   "source": [
    "print(('/ bx aa '.strip()))"
   ]
  },
  {
   "cell_type": "code",
   "execution_count": 30,
   "metadata": {},
   "outputs": [
    {
     "name": "stdout",
     "output_type": "stream",
     "text": [
      "!\"#$%&'()*+,-./:;<=>?@[\\]^_`{|}~0123456789\n",
      "abcdefghijklmnopqrstuvwxyzABCDEFGHIJKLMNOPQRSTUVWXYZ\n"
     ]
    }
   ],
   "source": [
    "import string\n",
    "print(string.punctuation + string.digits)\n",
    "print(string.ascii_letters)"
   ]
  },
  {
   "cell_type": "code",
   "execution_count": 3,
   "metadata": {},
   "outputs": [
    {
     "name": "stdout",
     "output_type": "stream",
     "text": [
      "[('(', ')'), ('[', ']'), ('{', '}')]\n"
     ]
    }
   ],
   "source": [
    "starting = ['(', '[','{' ]\n",
    "ending = [')', ']', '}']\n",
    "matches = list(zip(starting , ending)) \n",
    "print(matches)"
   ]
  }
 ],
 "metadata": {
  "kernelspec": {
   "display_name": "Python 3",
   "language": "python",
   "name": "python3"
  },
  "language_info": {
   "codemirror_mode": {
    "name": "ipython",
    "version": 3
   },
   "file_extension": ".py",
   "mimetype": "text/x-python",
   "name": "python",
   "nbconvert_exporter": "python",
   "pygments_lexer": "ipython3",
   "version": "3.12.4"
  }
 },
 "nbformat": 4,
 "nbformat_minor": 2
}
