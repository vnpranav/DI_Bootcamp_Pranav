{
 "cells": [
  {
   "cell_type": "code",
   "execution_count": 57,
   "metadata": {},
   "outputs": [
    {
     "name": "stdout",
     "output_type": "stream",
     "text": [
      "success\n"
     ]
    }
   ],
   "source": [
    "import psycopg2\n",
    "def connection(db_name, db_user, db_pw, db_host, db_port):\n",
    "   try:\n",
    "      conn = psycopg2.connect(dbname=db_name, user=db_user, password=db_pw, host=db_host, port=db_port)\n",
    "      print(\"success\")\n",
    "      return conn\n",
    "   except Exception as e:\n",
    "      print(e)\n",
    "      return None\n",
    "   \n",
    "params = {\n",
    "   \"db_name\" : \"test2\",\n",
    "   \"db_user\" : \"class143_owner\",\n",
    "   \"db_pw\" : 'BThOV0lZb3YU', \n",
    "   \"db_host\" : 'ep-morning-cell-a2airzm3.eu-central-1.aws.neon.tech',\n",
    "   \"db_port\" : 5432\n",
    "}\n",
    "\n",
    "conn = connection(**params)\n",
    "conn.autocommit = True"
   ]
  },
  {
   "cell_type": "code",
   "execution_count": 58,
   "metadata": {},
   "outputs": [],
   "source": [
    "def execute_query(conn, query):\n",
    "   try:\n",
    "      cursor = conn.cursor()\n",
    "      cursor.execute(query)\n",
    "      return cursor\n",
    "\n",
    "      # commit = push\n",
    "   except Exception as e:\n",
    "      print(e)\n",
    "      return None"
   ]
  },
  {
   "cell_type": "code",
   "execution_count": 59,
   "metadata": {},
   "outputs": [],
   "source": [
    "# query = \"SELECT * FROM MEMBERS\"\n",
    "# result = execute_query(conn, query).fetchall()\n",
    "# print(result)"
   ]
  },
  {
   "cell_type": "code",
   "execution_count": 60,
   "metadata": {},
   "outputs": [],
   "source": [
    "# for r in result:\n",
    "#    print(r)"
   ]
  },
  {
   "cell_type": "code",
   "execution_count": 61,
   "metadata": {},
   "outputs": [
    {
     "data": {
      "text/plain": [
       "<cursor object at 0x000001A9418AE340; closed: 0>"
      ]
     },
     "execution_count": 61,
     "metadata": {},
     "output_type": "execute_result"
    }
   ],
   "source": [
    "query = \"create table items (id Serial Primary Key, name Varchar(100) Not null);\"\n",
    "execute_query(conn, query)"
   ]
  }
 ],
 "metadata": {
  "kernelspec": {
   "display_name": "Python 3",
   "language": "python",
   "name": "python3"
  },
  "language_info": {
   "codemirror_mode": {
    "name": "ipython",
    "version": 3
   },
   "file_extension": ".py",
   "mimetype": "text/x-python",
   "name": "python",
   "nbconvert_exporter": "python",
   "pygments_lexer": "ipython3",
   "version": "3.12.4"
  }
 },
 "nbformat": 4,
 "nbformat_minor": 2
}
