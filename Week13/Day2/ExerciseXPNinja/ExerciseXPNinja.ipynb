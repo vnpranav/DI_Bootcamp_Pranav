{
 "cells": [
  {
   "cell_type": "code",
   "execution_count": null,
   "metadata": {},
   "outputs": [],
   "source": [
    "import math\n",
    "C = 50\n",
    "H = 30\n",
    "D = map(int, input(\"Enter value for D: \").split(\",\"))\n",
    "\n",
    "for value in D:\n",
    "   Q = math.sqrt((2*C*value)/H)\n",
    "   print(\"Q: \", Q)"
   ]
  },
  {
   "cell_type": "code",
   "execution_count": null,
   "metadata": {},
   "outputs": [],
   "source": [
    "nums = [3, 47, 99, -80, 22, 97, 54, -23, 5, 7] \n",
    "print(\",\".join((str(x) for x in nums)))\n",
    "print(sorted(nums, reverse=True))\n",
    "print(sum(nums))\n",
    "print([num for num in nums if num > 50])\n",
    "print([num for num in nums if num < 10])\n",
    "print(map(lambda x: x**2, nums))\n",
    "print(set(nums))\n",
    "print(sum(nums) / len(nums))\n",
    "print(min(nums))\n",
    "print(max(nums))"
   ]
  },
  {
   "cell_type": "code",
   "execution_count": null,
   "metadata": {},
   "outputs": [],
   "source": [
    "line = input(\"enter paragraph: \")\n",
    "print(len(line))\n",
    "print(line.count(\".\") + 1)\n",
    "print(len(line.split(\" \")))\n",
    "print(len(set(line.split(\" \"))))"
   ]
  },
  {
   "cell_type": "code",
   "execution_count": null,
   "metadata": {},
   "outputs": [],
   "source": [
    "sentence = \"New to Python or choosing between Python 2 and Python 3? Read Python 2 or Python 3.\".split(\" \")\n",
    "frequencies = {}\n",
    "for word in sentence:\n",
    "   if word in frequencies:\n",
    "      frequencies[word] += 1\n",
    "   else:\n",
    "      frequencies[word] = 1\n",
    "print(frequencies)\n"
   ]
  }
 ],
 "metadata": {
  "kernelspec": {
   "display_name": "Python 3",
   "language": "python",
   "name": "python3"
  },
  "language_info": {
   "codemirror_mode": {
    "name": "ipython",
    "version": 3
   },
   "file_extension": ".py",
   "mimetype": "text/x-python",
   "name": "python",
   "nbconvert_exporter": "python",
   "pygments_lexer": "ipython3",
   "version": "3.12.4"
  }
 },
 "nbformat": 4,
 "nbformat_minor": 2
}
