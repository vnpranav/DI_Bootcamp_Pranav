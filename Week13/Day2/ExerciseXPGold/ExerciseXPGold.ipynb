{
 "cells": [
  {
   "cell_type": "code",
   "execution_count": null,
   "metadata": {},
   "outputs": [],
   "source": [
    "list1 = [1,2,3,4]\n",
    "list2 = [5,6,7,8]\n",
    "list1.extend(list2)\n"
   ]
  },
  {
   "cell_type": "code",
   "execution_count": null,
   "metadata": {},
   "outputs": [],
   "source": [
    "for _ in range(1500, 2501):\n",
    "   if _ % 5 == 0 and _ % 7 == 0:\n",
    "      print(_) "
   ]
  },
  {
   "cell_type": "code",
   "execution_count": null,
   "metadata": {},
   "outputs": [],
   "source": [
    "names = ['Samus', 'Cortana', 'V', 'Link', 'Mario', 'Cortana', 'Samus']\n",
    "print(names.index(\"Samus\"))"
   ]
  },
  {
   "cell_type": "code",
   "execution_count": null,
   "metadata": {},
   "outputs": [],
   "source": [
    "greatest = -999999999999\n",
    "for i in range(1,4):\n",
    "   num = int(input(f\"Enter number {i}: \"))\n",
    "   if num > greatest:\n",
    "      greatest = num\n",
    "\n",
    "print(f\"Greatest number: {greatest}\")"
   ]
  },
  {
   "cell_type": "code",
   "execution_count": null,
   "metadata": {},
   "outputs": [],
   "source": [
    "import string\n",
    "letters  = string.ascii_lowercase\n",
    "vowels = [\"a\", \"e\", \"i\", \"o\", \"u\"]\n",
    "\n",
    "for l in letters:\n",
    "   if l in vowels:\n",
    "      print(\"letter\")\n",
    "   else:\n",
    "      print(\"consonnant\")"
   ]
  },
  {
   "cell_type": "code",
   "execution_count": null,
   "metadata": {},
   "outputs": [],
   "source": [
    "words = []\n",
    "for _ in range(7):\n",
    "   words.append(input(\"Enter a word: \"))\n",
    "\n",
    "letter = input(\"Enter letter: \")\n",
    "found = False\n",
    "for word in words:\n",
    "   if letter in word:\n",
    "      print(word.index(letter))\n",
    "   else:\n",
    "      print(\"Not found in word\")"
   ]
  },
  {
   "cell_type": "code",
   "execution_count": 8,
   "metadata": {},
   "outputs": [
    {
     "name": "stdout",
     "output_type": "stream",
     "text": [
      "1\n",
      "999999\n",
      "499999500000\n"
     ]
    }
   ],
   "source": [
    "list = range(1,1000000)\n",
    "print(min(list))\n",
    "print(max(list))\n",
    "print(sum(list))"
   ]
  },
  {
   "cell_type": "code",
   "execution_count": 11,
   "metadata": {},
   "outputs": [
    {
     "name": "stdout",
     "output_type": "stream",
     "text": [
      "('1', '2', '3')\n"
     ]
    }
   ],
   "source": [
    "nums = input(\"Enter list of numbers: \").split(\",\")\n",
    "tuple_nums = tuple(nums)\n",
    "print(tuple_nums)"
   ]
  },
  {
   "cell_type": "code",
   "execution_count": null,
   "metadata": {},
   "outputs": [],
   "source": [
    "import random\n",
    "user = int(input(\"Enter a number between 1 and 9: \"))\n",
    "computer = random.randint(1,9)\n",
    "if user == computer:\n",
    "   print(\"win\")\n",
    "else:\n",
    "   print(\"better luck next time\")"
   ]
  }
 ],
 "metadata": {
  "kernelspec": {
   "display_name": "Python 3",
   "language": "python",
   "name": "python3"
  },
  "language_info": {
   "codemirror_mode": {
    "name": "ipython",
    "version": 3
   },
   "file_extension": ".py",
   "mimetype": "text/x-python",
   "name": "python",
   "nbconvert_exporter": "python",
   "pygments_lexer": "ipython3",
   "version": "3.12.4"
  }
 },
 "nbformat": 4,
 "nbformat_minor": 2
}
