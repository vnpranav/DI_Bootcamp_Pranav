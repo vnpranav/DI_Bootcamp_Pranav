{
 "cells": [
  {
   "cell_type": "code",
   "execution_count": 1,
   "metadata": {},
   "outputs": [
    {
     "name": "stdout",
     "output_type": "stream",
     "text": [
      "      ___iiiii___\n",
      "     |:H:a:p:p:y:|\n",
      "__   |___________|__\n",
      "|^^^^^^^^^^^^^^^^^|\n",
      "|:B:i:r:t:h:d:a:y:|\n",
      "|                 |\n",
      "|:B:i:r:t:h:d:a:y:|\n",
      "|                 |\n",
      "~~~~~~~~~~~~~~~~~~~\n",
      "              \n",
      "              \n"
     ]
    }
   ],
   "source": [
    "import datetime\n",
    "\n",
    "# Function to check if a year is a leap year\n",
    "def is_leap_year(year):\n",
    "    return (year % 4 == 0 and year % 100 != 0) or (year % 400 == 0)\n",
    "\n",
    "# Ask the user for their birthdate\n",
    "birthdate_str = input(\"Please enter your birthdate (DD/MM/YYYY): \")\n",
    "\n",
    "# Convert the input string to a date object\n",
    "birthdate = datetime.datetime.strptime(birthdate_str, \"%d/%m/%Y\").date()\n",
    "\n",
    "# Get current date\n",
    "current_date = datetime.date.today()\n",
    "\n",
    "# Calculate age\n",
    "age = current_date.year - birthdate.year - ((current_date.month, current_date.day) < (birthdate.month, birthdate.day))\n",
    "\n",
    "# Determine number of candles (last digit of age)\n",
    "last_digit_age = age % 10\n",
    "num_candles = last_digit_age\n",
    "\n",
    "# Check if birth year is a leap year\n",
    "if is_leap_year(birthdate.year):\n",
    "    num_cakes = 2\n",
    "else:\n",
    "    num_cakes = 1\n",
    "\n",
    "# Print the cake(s) with candles\n",
    "print(\" ___\"+ \"i\"*last_digit_age +\"___\")\n",
    "\n",
    "\n",
    "for _ in range(num_cakes):\n",
    "    print(\"|:H:a:p:p:y:|\")\n",
    "    print(\"__   |___________|__\")\n",
    "    print(\"|^^^^^^^^^^^^^^^^^|\")\n",
    "    print(\"|:B:i:r:t:h:d:a:y:|\")\n",
    "    print(\"|                 |\")\n",
    "\n",
    "print(\"~~~~~~~~~~~~~~~~~~~\")\n",
    "\n",
    "# Print candles on each cake\n",
    "for _ in range(num_cakes):\n",
    "    print(\" \" * 7 + \"i\" * num_candles + \" \" * 7)\n",
    "\n"
   ]
  }
 ],
 "metadata": {
  "kernelspec": {
   "display_name": "Python 3",
   "language": "python",
   "name": "python3"
  },
  "language_info": {
   "codemirror_mode": {
    "name": "ipython",
    "version": 3
   },
   "file_extension": ".py",
   "mimetype": "text/x-python",
   "name": "python",
   "nbconvert_exporter": "python",
   "pygments_lexer": "ipython3",
   "version": "3.12.4"
  }
 },
 "nbformat": 4,
 "nbformat_minor": 2
}
