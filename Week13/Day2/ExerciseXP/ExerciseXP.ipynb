{
 "cells": [
  {
   "cell_type": "code",
   "execution_count": null,
   "metadata": {},
   "outputs": [],
   "source": [
    "print(5>3)\n",
    "print(3==3)\n",
    "print(3==\"3\")\n",
    "# print(\"3\">3) type error\n",
    "print(\"Hello\"==\"hello\")"
   ]
  },
  {
   "cell_type": "code",
   "execution_count": null,
   "metadata": {},
   "outputs": [],
   "source": [
    "name = \"pranav\"\n",
    "age = 20\n",
    "shoe_size = 45\n",
    "info = f\"Hi I'm {name} and i am {age} years old. my shoe size is {shoe_size}\"\n",
    "print(info)"
   ]
  },
  {
   "cell_type": "code",
   "execution_count": null,
   "metadata": {},
   "outputs": [],
   "source": [
    "number = int(input(\"Enter a number: \"))\n",
    "if number % 2 == 0:\n",
    "   print(\"The number is even\")\n",
    "else:\n",
    "   print(\"The number is odd\")"
   ]
  },
  {
   "cell_type": "code",
   "execution_count": null,
   "metadata": {},
   "outputs": [],
   "source": [
    "height = int(input(\"Enter height: \"))\n",
    "cm = height * 15/6\n",
    "if cm > 145:\n",
    "   print(\"You can ride the rollercoaster!\")\n",
    "else:\n",
    "   print(\"You can't ride the rollercoaster!\")"
   ]
  },
  {
   "cell_type": "code",
   "execution_count": 1,
   "metadata": {},
   "outputs": [
    {
     "name": "stdout",
     "output_type": "stream",
     "text": [
      "529\n"
     ]
    }
   ],
   "source": [
    "my_text = \"\"\"Lorem ipsum dolor sit amet, consectetur adipiscing elit, \n",
    "           sed do eiusmod tempor incididunt ut labore et dolore magna aliqua. \n",
    "           Ut enim ad minim veniam, quis nostrud exercitation ullamco \n",
    "           laboris nisi ut aliquip ex ea commodo consequat. \n",
    "           Duis aute irure dolor in reprehenderit in voluptate velit \n",
    "           esse cillum dolore eu fugiat nulla pariatur. \n",
    "           Excepteur sint occaecat cupidatat non proident, \n",
    "           sunt in culpa qui officia deserunt mollit anim id est laborum.\"\"\"\n",
    "print(len(my_text))"
   ]
  },
  {
   "cell_type": "code",
   "execution_count": null,
   "metadata": {},
   "outputs": [],
   "source": [
    "longest = \"\"\n",
    "while True:\n",
    "   sentence = input(\"Enter a sentence without the letter a: \")\n",
    "   if 'a' in sentence.lower():\n",
    "      break\n",
    "   else:\n",
    "      if len(sentence) > len(longest):\n",
    "         longest = sentence"
   ]
  },
  {
   "cell_type": "code",
   "execution_count": null,
   "metadata": {},
   "outputs": [],
   "source": [
    "my_fav_numbers = set()\n",
    "my_fav_numbers.add(1)\n",
    "my_fav_numbers.add(2)\n",
    "my_fav_numbers.remove(2)\n",
    "\n",
    "friend_fav_numbers = set()\n",
    "friend_fav_numbers.add(3)\n",
    "#concatenate the two sets to a new variable\n",
    "our_fav_numbers = my_fav_numbers.union(friend_fav_numbers)"
   ]
  },
  {
   "cell_type": "code",
   "execution_count": 2,
   "metadata": {},
   "outputs": [
    {
     "name": "stdout",
     "output_type": "stream",
     "text": [
      "[]\n"
     ]
    }
   ],
   "source": [
    "basket = [\"Banana\", \"Apples\", \"Oranges\", \"Blueberries\"]\n",
    "basket.remove(\"Banana\")\n",
    "basket.remove(\"Blueberries\")\n",
    "basket.append(\"Kiwi\")\n",
    "basket.insert(0, \"Apples\")\n",
    "basket.count(\"Apples\")\n",
    "basket.clear()\n",
    "print(basket)"
   ]
  },
  {
   "cell_type": "code",
   "execution_count": null,
   "metadata": {},
   "outputs": [],
   "source": [
    "list = []\n",
    "for i in range(3,11):\n",
    "   list.append(i/2)"
   ]
  },
  {
   "cell_type": "code",
   "execution_count": null,
   "metadata": {},
   "outputs": [],
   "source": [
    "for i in range(1,21):\n",
    "   print(i)\n",
    "\n",
    "for i in range(1,21):\n",
    "   if i % 2 == 0:\n",
    "      print(i)"
   ]
  },
  {
   "cell_type": "code",
   "execution_count": null,
   "metadata": {},
   "outputs": [],
   "source": [
    "ages = []\n",
    "while True:\n",
    "   print(\"1. Enter age of member\")\n",
    "   print(\"2. Exit\")\n",
    "   choice = int(input(\"Enter your choice: \"))\n",
    "   if choice == 1:\n",
    "      age = int(input(\"Enter age: \"))\n",
    "      ages.append(age)\n",
    "   elif choice ==2:\n",
    "      break\n",
    "total = 0\n",
    "for age in ages:\n",
    "   if age in range(3,13):\n",
    "      total += 10\n",
    "   elif age > 12:\n",
    "      total += 15\n",
    "print(\"Total: \", total)\n",
    "\n",
    "teenagers = [\"Abby\", \"Gail\", \"Barry\", \"Tom\"]\n",
    "for teen in teenagers:\n",
    "   age = int(input(f\"Enter age for {teen}: \"))\n",
    "   if age not in range(16,22):\n",
    "      teenagers.remove(teen)\n",
    "\n",
    "print(teenagers)"
   ]
  }
 ],
 "metadata": {
  "kernelspec": {
   "display_name": "Python 3",
   "language": "python",
   "name": "python3"
  },
  "language_info": {
   "codemirror_mode": {
    "name": "ipython",
    "version": 3
   },
   "file_extension": ".py",
   "mimetype": "text/x-python",
   "name": "python",
   "nbconvert_exporter": "python",
   "pygments_lexer": "ipython3",
   "version": "3.12.4"
  }
 },
 "nbformat": 4,
 "nbformat_minor": 2
}
