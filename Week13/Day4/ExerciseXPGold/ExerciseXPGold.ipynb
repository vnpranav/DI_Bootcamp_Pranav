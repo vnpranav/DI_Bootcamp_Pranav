{
 "cells": [
  {
   "cell_type": "code",
   "execution_count": null,
   "metadata": {},
   "outputs": [],
   "source": [
    "birthdays = {\n",
    "   'Alice': '2004/12/12',\n",
    "   'Bob': '2005/12/12',\n",
    "   'Carol': '2006/12/12',\n",
    "   'Dennis': '2007/12/12',\n",
    "   \"Jimmy\" : '2009/01/15'\n",
    "}\n",
    "print(\"Welcome\")\n",
    "print(list(birthdays.keys()))\n",
    "name = input(\"who do you want to add to the list?: \")\n",
    "birthdays[name] = input(\"what is their birthday? (YYYY/MM/DD) : \")\n",
    "name = input(\"Whose birthday do you want to look up?\")\n",
    "if name in birthdays.keys():\n",
    "   print(birthdays[name] + \" is the birthday of \" + name)\n",
    "else:\n",
    "   print(\"I don't have \" + name + \"'s birthday in my records.\")"
   ]
  },
  {
   "cell_type": "code",
   "execution_count": null,
   "metadata": {},
   "outputs": [],
   "source": [
    "items = {\n",
    "    \"banana\": 4,\n",
    "    \"apple\": 2,\n",
    "    \"orange\": 1.5,\n",
    "    \"pear\": 3\n",
    "}\n",
    "for item, price in items.items():\n",
    "   print(f\"{item} has a price of {price}\")"
   ]
  },
  {
   "cell_type": "code",
   "execution_count": null,
   "metadata": {},
   "outputs": [],
   "source": [
    "items = {\n",
    "    \"banana\": {\"price\": 4 , \"stock\":10},\n",
    "    \"apple\": {\"price\": 2, \"stock\":5},\n",
    "    \"orange\": {\"price\": 1.5 , \"stock\":24},\n",
    "    \"pear\": {\"price\": 3 , \"stock\":1}\n",
    "}\n",
    "for item, info in items.items():\n",
    "   print(f\"{item}: price :  {info['price']} : quantity : {info['stock']}\")"
   ]
  },
  {
   "cell_type": "code",
   "execution_count": 4,
   "metadata": {},
   "outputs": [
    {
     "name": "stdout",
     "output_type": "stream",
     "text": [
      "20\n"
     ]
    },
    {
     "data": {
      "text/plain": [
       "False"
      ]
     },
     "execution_count": 4,
     "metadata": {},
     "output_type": "execute_result"
    }
   ],
   "source": [
    "import datetime as dt \n",
    "import math\n",
    "\n",
    "retirement_men = 67\n",
    "retirement_women = 62\n",
    "\n",
    "def get_age(year, month, day):\n",
    "   age = dt.datetime.now() - dt.datetime(year, month, day)\n",
    "   return math.floor(age.days / 365.25)\n",
    "\n",
    "\n",
    "def can_retire(gender, date_of_birth):\n",
    "   age = get_age(date_of_birth.year, date_of_birth.month, date_of_birth.day)\n",
    "   if gender == 'm':\n",
    "      return age >= retirement_men\n",
    "   else:\n",
    "      return age >= retirement_women\n",
    "   \n",
    "my_birthday = dt.date(year=2004, month=1, day=15)\n",
    "print(get_age(my_birthday.year, my_birthday.month, my_birthday.day))\n",
    "can_retire('m',my_birthday)"
   ]
  },
  {
   "cell_type": "code",
   "execution_count": 5,
   "metadata": {},
   "outputs": [
    {
     "data": {
      "text/plain": [
       "3702"
      ]
     },
     "execution_count": 5,
     "metadata": {},
     "output_type": "execute_result"
    }
   ],
   "source": [
    "def weird_sum(x:int):\n",
    "   str_x = str(x)\n",
    "   return int(str_x) + int(str_x * 2) + int(str_x * 3) + int(str_x * 4)\n",
    "weird_sum(3)"
   ]
  },
  {
   "cell_type": "code",
   "execution_count": 36,
   "metadata": {},
   "outputs": [
    {
     "name": "stdout",
     "output_type": "stream",
     "text": [
      "99\n",
      "0.99\n"
     ]
    }
   ],
   "source": [
    "import random\n",
    "\n",
    "def throw_dice():\n",
    "   return random.randint(1,6)\n",
    "\n",
    "def throw_until_doubles():\n",
    "   count = 0\n",
    "   while True:\n",
    "      first = throw_dice\n",
    "      second = throw_dice\n",
    "      count += 1\n",
    "      if first == second:\n",
    "         break\n",
    "   return count\n",
    "\n",
    "def main():\n",
    "   throws = {}\n",
    "   for i in range(1,100):\n",
    "      throws[i] = throw_until_doubles()\n",
    "\n",
    "   print(sum(throws.values()))\n",
    "   print(sum(throws.values()) / 100)\n",
    "\n",
    "main()\n"
   ]
  }
 ],
 "metadata": {
  "kernelspec": {
   "display_name": "Python 3",
   "language": "python",
   "name": "python3"
  },
  "language_info": {
   "codemirror_mode": {
    "name": "ipython",
    "version": 3
   },
   "file_extension": ".py",
   "mimetype": "text/x-python",
   "name": "python",
   "nbconvert_exporter": "python",
   "pygments_lexer": "ipython3",
   "version": "3.12.4"
  }
 },
 "nbformat": 4,
 "nbformat_minor": 2
}
