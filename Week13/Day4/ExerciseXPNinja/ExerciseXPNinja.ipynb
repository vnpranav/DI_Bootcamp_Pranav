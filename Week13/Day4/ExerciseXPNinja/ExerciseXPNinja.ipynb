{
 "cells": [
  {
   "cell_type": "code",
   "execution_count": null,
   "metadata": {},
   "outputs": [],
   "source": [
    "cars = \"Volkswagen, Toyota, Ford Motor, Honda, Chevrolet\".replace(\" \", \"\").split(\",\")\n",
    "print(len(cars))\n",
    "print(sorted(cars, reverse=True))\n",
    "print([car for car in cars if \"o\" in car.lower()])\n",
    "print([car for car in cars if \"i\" not in car.lower()])\n",
    "\n",
    "cars = list(set([\"Honda\",\"Volkswagen\", \"Toyota\", \"Ford Motor\", \"Honda\", \"Chevrolet\", \"Toyota\"]))\n",
    "print(len(cars))\n",
    "print(\",\".join(cars))\n",
    "print(sorted([car[::-1] for car in cars] , reverse=True))"
   ]
  },
  {
   "cell_type": "code",
   "execution_count": null,
   "metadata": {},
   "outputs": [],
   "source": [
    "def get_full_name(first_name, last_name, middle_name=\"\"):\n",
    "   if middle_name == \"\":\n",
    "      return f\"{first_name} {last_name}\"\n",
    "   else:\n",
    "      return f\"{first_name} {middle_name} {last_name}\""
   ]
  },
  {
   "cell_type": "code",
   "execution_count": null,
   "metadata": {},
   "outputs": [],
   "source": [
    "def text_to_morse(text):\n",
    "    # Morse code dictionary\n",
    "    morse_code_dict = {\n",
    "        'A': '.-', 'B': '-...', 'C': '-.-.', 'D': '-..', 'E': '.', \n",
    "        'F': '..-.', 'G': '--.', 'H': '....', 'I': '..', 'J': '.---', \n",
    "        'K': '-.-', 'L': '.-..', 'M': '--', 'N': '-.', 'O': '---', \n",
    "        'P': '.--.', 'Q': '--.-', 'R': '.-.', 'S': '...', 'T': '-', \n",
    "        'U': '..-', 'V': '...-', 'W': '.--', 'X': '-..-', 'Y': '-.--', \n",
    "        'Z': '--..',\n",
    "        '0': '-----', '1': '.----', '2': '..---', '3': '...--', \n",
    "        '4': '....-', '5': '.....', '6': '-....', '7': '--...', \n",
    "        '8': '---..', '9': '----.'\n",
    "    }\n",
    "    \n",
    "    morse_code_list = []\n",
    "    for char in text.upper():\n",
    "        if char == ' ':\n",
    "            morse_code_list.append('/')\n",
    "        elif char in morse_code_dict:\n",
    "            morse_code_list.append(morse_code_dict[char])\n",
    "    \n",
    "    return ' '.join(morse_code_list)"
   ]
  },
  {
   "cell_type": "code",
   "execution_count": null,
   "metadata": {},
   "outputs": [],
   "source": [
    "def box_printer(*args):\n",
    "   max_len = len(max(args, key=lambda x : len(x)))\n",
    "   space = \" \" * max_len\n",
    "   print(\"*\" * (max_len + 4))\n",
    "   for arg in args:\n",
    "      line = arg + space[len(arg):]\n",
    "      print(\"* \" + line +\" *\")\n",
    "   print(\"*\" * (max_len + 4))\n",
    "\n",
    "box_printer(\"Hello\", \"World\", \"in\", \"reallylongword\", \"a\", \"frame\")\n"
   ]
  },
  {
   "cell_type": "code",
   "execution_count": 10,
   "metadata": {},
   "outputs": [
    {
     "name": "stdout",
     "output_type": "stream",
     "text": [
      "[17, 20, 26, 31, 44, 54, 55, 77, 93]\n"
     ]
    }
   ],
   "source": [
    "def insertion_sort(alist):\n",
    "   for index in range(1,len(alist)):\n",
    "\n",
    "     currentvalue = alist[index]\n",
    "     position = index\n",
    "\n",
    "     while position>0 and alist[position-1]>currentvalue:\n",
    "         alist[position]=alist[position-1]\n",
    "         position = position-1\n",
    "\n",
    "     alist[position]=currentvalue\n",
    "\n",
    "alist = [54,26,93,17,77,31,44,55,20]\n",
    "insertion_sort(alist)\n",
    "print(alist)"
   ]
  }
 ],
 "metadata": {
  "kernelspec": {
   "display_name": "Python 3",
   "language": "python",
   "name": "python3"
  },
  "language_info": {
   "codemirror_mode": {
    "name": "ipython",
    "version": 3
   },
   "file_extension": ".py",
   "mimetype": "text/x-python",
   "name": "python",
   "nbconvert_exporter": "python",
   "pygments_lexer": "ipython3",
   "version": "3.12.4"
  }
 },
 "nbformat": 4,
 "nbformat_minor": 2
}
