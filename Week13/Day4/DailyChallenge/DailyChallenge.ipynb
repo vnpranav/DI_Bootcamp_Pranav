{
 "cells": [
  {
   "cell_type": "code",
   "execution_count": 4,
   "metadata": {},
   "outputs": [
    {
     "name": "stdout",
     "output_type": "stream",
     "text": [
      "{'d': [0, 2], 'o': [1, 3]}\n"
     ]
    }
   ],
   "source": [
    "word = input(\"Enter word: \")\n",
    "occurences = {}\n",
    "for index in range(len(word)):\n",
    "   if word[index] in occurences.keys():\n",
    "      occurences[word[index]].append(index)\n",
    "   else:\n",
    "      occurences[word[index]] = [index]\n",
    "print(occurences)"
   ]
  },
  {
   "cell_type": "code",
   "execution_count": null,
   "metadata": {},
   "outputs": [],
   "source": [
    "items_purchase = {\n",
    "  \"Water\": \"$1\",\n",
    "  \"Bread\": \"$3\",\n",
    "  \"TV\": \"$1,000\",\n",
    "  \"Fertilizer\": \"$20\"\n",
    "}\n",
    "\n",
    "wallet = \"$300\"\n",
    "\n",
    "def can_afford(items_purchase, wallet):\n",
    "    wallet_amount = int(wallet.replace('$', '').replace(',', ''))\n",
    "    \n",
    "    affordable_items = []\n",
    "    \n",
    "    for item, price_str in items_purchase.items():\n",
    "        price = int(price_str.replace('$', '').replace(',', ''))\n",
    "        \n",
    "        if wallet_amount >= price:\n",
    "            affordable_items.append(item)\n",
    "    \n",
    "    affordable_items.sort()\n",
    "    \n",
    "    if not affordable_items:\n",
    "        return [\"Nothing\"]\n",
    "    else:\n",
    "        return affordable_items\n"
   ]
  }
 ],
 "metadata": {
  "kernelspec": {
   "display_name": "Python 3",
   "language": "python",
   "name": "python3"
  },
  "language_info": {
   "codemirror_mode": {
    "name": "ipython",
    "version": 3
   },
   "file_extension": ".py",
   "mimetype": "text/x-python",
   "name": "python",
   "nbconvert_exporter": "python",
   "pygments_lexer": "ipython3",
   "version": "3.12.4"
  }
 },
 "nbformat": 4,
 "nbformat_minor": 2
}
