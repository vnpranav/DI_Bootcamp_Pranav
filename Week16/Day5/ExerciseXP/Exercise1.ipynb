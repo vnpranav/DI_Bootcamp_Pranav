{
 "cells": [
  {
   "cell_type": "code",
   "execution_count": 3,
   "metadata": {},
   "outputs": [],
   "source": [
    "import numpy as np"
   ]
  },
  {
   "cell_type": "code",
   "execution_count": 4,
   "metadata": {},
   "outputs": [],
   "source": [
    "# create a vector array of zeroes size 10\n",
    "zeroes = np.zeros(10)\n",
    "# print(zeroes)"
   ]
  },
  {
   "cell_type": "code",
   "execution_count": null,
   "metadata": {},
   "outputs": [],
   "source": [
    "# compute memory size of array\n",
    "numpy_arr = np.array([1,2,3,4,5])\n",
    "size = numpy_arr.itemsize * len(numpy_arr)\n",
    "# print(size)"
   ]
  },
  {
   "cell_type": "code",
   "execution_count": null,
   "metadata": {},
   "outputs": [],
   "source": [
    "# retrieve add function documentation from cli\n",
    "# np.info(np.add)"
   ]
  },
  {
   "cell_type": "code",
   "execution_count": null,
   "metadata": {},
   "outputs": [],
   "source": [
    "# vector array from 10 to 49\n",
    "list = np.arange(10, 50)\n",
    "# print(list)\n",
    "# reverse a vector\n",
    "reversed_list = list[::-1]\n",
    "# print(reversed_list)"
   ]
  },
  {
   "cell_type": "code",
   "execution_count": null,
   "metadata": {},
   "outputs": [],
   "source": [
    "# 3*3 matrix from 0 to 8 using reshape\n",
    "matrix = np.reshape(np.arange(0,9), (3,3))\n",
    "# print(matrix)\n",
    "\n",
    "# find non zero elements\n",
    "array = np.array([1,2,0,0,4,0])\n",
    "non_zeroes = np.nonzero(array)\n",
    "# print(non_zeroes)\n",
    "\n",
    "# 3*3 matrix \n",
    "matrix = np.eye(3)\n",
    "# print(matrix)\n",
    "\n",
    "# 5*5 matrix where each row contains 1-4\n",
    "matrix = np.tile(np.arange(5), (5,1))\n",
    "# print(matrix)\n",
    "\n",
    "# vector size 10 ranging from 0 to 1\n",
    "matrix = np.linspace(0,1,10)\n",
    "# print(matrix)\n",
    "\n",
    "# create vector size 10 and sort it\n",
    "atrix = np.random.rand(10)\n",
    "matrix = np.sort(matrix)\n",
    "# print(matrix)\n"
   ]
  },
  {
   "cell_type": "code",
   "execution_count": null,
   "metadata": {},
   "outputs": [],
   "source": [
    "# min and max for each type\n",
    "\n",
    "print(\"Min:\", np.iinfo(np.int8).min)\n",
    "print(\"Max:\", np.iinfo(np.int8).max)\n",
    "print()\n",
    "\n",
    "\n",
    "print(\"int32:\")\n",
    "print(\"Min:\", np.iinfo(np.int32).min)\n",
    "print(\"Max:\", np.iinfo(np.int32).max)\n",
    "print()\n",
    "\n",
    "\n",
    "print(\"int64:\")\n",
    "print(\"Min:\", np.iinfo(np.int64).min)\n",
    "print(\"Max:\", np.iinfo(np.int64).max)\n",
    "print()\n",
    "\n",
    "# Floating-point types\n",
    "\n",
    "print(\"float32:\")\n",
    "print(\"Min:\", np.finfo(np.float32).min)\n",
    "print(\"Max:\", np.finfo(np.float32).max)\n",
    "print()\n",
    "\n",
    "\n",
    "print(\"float64:\")\n",
    "print(\"Min:\", np.finfo(np.float64).min)\n",
    "print(\"Max:\", np.finfo(np.float64).max)\n",
    "print()\n",
    "\n",
    "# convert float array to integer array"
   ]
  },
  {
   "cell_type": "code",
   "execution_count": 7,
   "metadata": {},
   "outputs": [
    {
     "data": {
      "text/plain": [
       "array([1, 2, 3, 4, 5], dtype=int32)"
      ]
     },
     "execution_count": 7,
     "metadata": {},
     "output_type": "execute_result"
    }
   ],
   "source": [
    "import numpy as np\n",
    "# convert 32 bit float vector to int vector\n",
    "array  = np.array([1.1, 2.2, 3.3, 4.4, 5.5])\n",
    "conversion =  array.astype(np.int32)\n",
    "conversion\n"
   ]
  },
  {
   "cell_type": "code",
   "execution_count": 11,
   "metadata": {},
   "outputs": [
    {
     "data": {
      "text/plain": [
       "array([[-3., -2.,  5.],\n",
       "       [-1.,  0.,  1.]])"
      ]
     },
     "execution_count": 11,
     "metadata": {},
     "output_type": "execute_result"
    }
   ],
   "source": [
    "import numpy as np\n",
    "# subtract mean from each row\n",
    "matrix = np.array([[1,2,9], [4,5,6]])\n",
    "changed = matrix - np.mean(matrix, axis=1, keepdims=True)\n",
    "changed"
   ]
  },
  {
   "cell_type": "code",
   "execution_count": 13,
   "metadata": {},
   "outputs": [
    {
     "data": {
      "text/plain": [
       "array([[-1,  4,  1],\n",
       "       [ 1,  2,  3],\n",
       "       [ 4,  5,  6]])"
      ]
     },
     "execution_count": 13,
     "metadata": {},
     "output_type": "execute_result"
    }
   ],
   "source": [
    "import numpy as np\n",
    "# sort an array on nth column\n",
    "matrix = np.array([[1,2,3], [4,5,6], [-1, 4, 1]])\n",
    "sorted = np.argsort(matrix[:,2])\n",
    "sorted_matrix = matrix[sorted]\n",
    "sorted_matrix"
   ]
  },
  {
   "cell_type": "code",
   "execution_count": 14,
   "metadata": {},
   "outputs": [
    {
     "data": {
      "text/plain": [
       "array([[3, 4, 5],\n",
       "       [0, 1, 2],\n",
       "       [6, 7, 8]])"
      ]
     },
     "execution_count": 14,
     "metadata": {},
     "output_type": "execute_result"
    }
   ],
   "source": [
    "import numpy as np\n",
    "# swap two rows\n",
    "matrix = np.reshape(np.arange(0,9), (3,3))\n",
    "\n",
    "matrix[[0,1]] = matrix[[1,0]]\n",
    "matrix"
   ]
  },
  {
   "cell_type": "code",
   "execution_count": 16,
   "metadata": {},
   "outputs": [
    {
     "name": "stdout",
     "output_type": "stream",
     "text": [
      "[3 2 1 4]\n",
      "[0 0 0 1 1 2 3 3 3 3]\n",
      "[ True  True  True  True]\n"
     ]
    }
   ],
   "source": [
    "# Given an array C that is a bincount*, how to produce an array A such that np.bincount(A) == C? Use np.repeat.\n",
    "import numpy as np\n",
    "c = np.array([3,2,1,4])\n",
    "print(c)\n",
    "a = np.repeat(np.arange(len(c)), c)\n",
    "print(a)\n",
    "print(np.bincount(a) == c)"
   ]
  }
 ],
 "metadata": {
  "kernelspec": {
   "display_name": "Python 3",
   "language": "python",
   "name": "python3"
  },
  "language_info": {
   "codemirror_mode": {
    "name": "ipython",
    "version": 3
   },
   "file_extension": ".py",
   "mimetype": "text/x-python",
   "name": "python",
   "nbconvert_exporter": "python",
   "pygments_lexer": "ipython3",
   "version": "3.12.4"
  }
 },
 "nbformat": 4,
 "nbformat_minor": 2
}
