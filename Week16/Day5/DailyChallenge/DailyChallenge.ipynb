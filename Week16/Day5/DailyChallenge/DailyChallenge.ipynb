{
 "cells": [
  {
   "cell_type": "code",
   "execution_count": 2,
   "metadata": {},
   "outputs": [
    {
     "name": "stdout",
     "output_type": "stream",
     "text": [
      "[[6 3 4 1 4]\n",
      " [0 5 3 5 5]\n",
      " [3 3 0 5 3]\n",
      " [5 1 0 3 4]\n",
      " [1 2 4 2 1]]\n"
     ]
    }
   ],
   "source": [
    "import numpy as np\n",
    "data = np.array(np.random.randint(0, 7, size=25)).reshape(5,5)\n",
    "print(data)\n",
    "data[[1,3]] = data[[3,1]]\n",
    "# data"
   ]
  },
  {
   "cell_type": "code",
   "execution_count": null,
   "metadata": {},
   "outputs": [],
   "source": [
    "import numpy as np\n",
    "normalized_data = (data - np.min(data)) / (np.max(data) - np.min(data))\n",
    "\n",
    "# print(normalized_data)"
   ]
  },
  {
   "cell_type": "code",
   "execution_count": null,
   "metadata": {},
   "outputs": [],
   "source": [
    "import numpy as np\n",
    "z_score_data = (data - np.mean(data)) / np.std(data)\n",
    "print(z_score_data)"
   ]
  },
  {
   "cell_type": "code",
   "execution_count": null,
   "metadata": {},
   "outputs": [],
   "source": [
    "import numpy as np\n",
    "splitted = np.ravel(data)\n",
    "groups = np.split(splitted, 5)\n",
    "print(groups)"
   ]
  },
  {
   "cell_type": "code",
   "execution_count": null,
   "metadata": {},
   "outputs": [],
   "source": [
    "import numpy as np\n",
    "vector1 = np.array([3,5,6,7,8])\n",
    "vector2 = np.array([2,4,6,8,10])\n",
    "\n",
    "dot = np.dot(vector1, vector2)\n",
    "print(dot)"
   ]
  },
  {
   "cell_type": "code",
   "execution_count": null,
   "metadata": {},
   "outputs": [],
   "source": [
    "import numpy as np\n",
    "data2 = np.array(np.random.randint(1, 100, size=25)).reshape(5,5)\n",
    "\n",
    "print(data * data2)"
   ]
  },
  {
   "cell_type": "code",
   "execution_count": null,
   "metadata": {},
   "outputs": [],
   "source": [
    "import numpy as np\n",
    "identity3 = np.identity(3) * 2\n",
    "print(identity3)\n",
    "\n",
    "inverse = identity3 * data2"
   ]
  },
  {
   "cell_type": "code",
   "execution_count": null,
   "metadata": {},
   "outputs": [],
   "source": [
    "import numpy as np\n",
    "eigenvalues, eigenvectors = np.linalg.eig(data)"
   ]
  },
  {
   "cell_type": "code",
   "execution_count": 4,
   "metadata": {},
   "outputs": [
    {
     "name": "stdout",
     "output_type": "stream",
     "text": [
      "(array([], dtype=int64), array([], dtype=int64))\n"
     ]
    }
   ],
   "source": [
    "import numpy as np\n",
    "nan_indices = np.random.randint(0,5, size=(5,2))\n",
    "for index in nan_indices:\n",
    "   data[index[0], index[1]] = np.nan_to_num(np.nan)\n",
    "\n",
    "print(np.where(np.isnan(data)))\n",
    "\n",
    "mean = np.nanmean(data)\n",
    "data[np.isnan(data)] = mean"
   ]
  },
  {
   "cell_type": "code",
   "execution_count": null,
   "metadata": {},
   "outputs": [],
   "source": []
  }
 ],
 "metadata": {
  "kernelspec": {
   "display_name": "Python 3",
   "language": "python",
   "name": "python3"
  },
  "language_info": {
   "codemirror_mode": {
    "name": "ipython",
    "version": 3
   },
   "file_extension": ".py",
   "mimetype": "text/x-python",
   "name": "python",
   "nbconvert_exporter": "python",
   "pygments_lexer": "ipython3",
   "version": "3.12.4"
  }
 },
 "nbformat": 4,
 "nbformat_minor": 2
}
